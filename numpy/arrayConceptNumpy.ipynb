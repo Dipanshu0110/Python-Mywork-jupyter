{
  "metadata": {
    "kernelspec": {
      "name": "xpython",
      "display_name": "Python 3.13 (XPython)",
      "language": "python"
    },
    "language_info": {
      "file_extension": ".py",
      "mimetype": "text/x-python",
      "name": "python",
      "version": "3.13.1"
    }
  },
  "nbformat_minor": 5,
  "nbformat": 4,
  "cells": [
    {
      "id": "f82a3dbc-d7bb-4c59-8543-093c46b444d0",
      "cell_type": "markdown",
      "source": "Slicing in Array numpy",
      "metadata": {}
    },
    {
      "id": "9add08ca-dc06-4e53-b3f6-d8bac9fa19e6",
      "cell_type": "code",
      "source": "import numpy as np\n",
      "metadata": {
        "trusted": true
      },
      "outputs": [],
      "execution_count": 1
    },
    {
      "id": "145b45c1-8b22-4f14-8de3-95ef6d507126",
      "cell_type": "code",
      "source": "arr=np.array([1,2,3,4,5,6])\nprint(arr[1:5:2])\nprint(arr[::2])",
      "metadata": {
        "trusted": true
      },
      "outputs": [
        {
          "name": "stdout",
          "output_type": "stream",
          "text": "[2 4]\n[1 3 5]\n"
        }
      ],
      "execution_count": 6
    },
    {
      "id": "156134a1-8afb-4b70-8743-e8cd5f4bb202",
      "cell_type": "markdown",
      "source": "Slicing in 2D array",
      "metadata": {}
    },
    {
      "id": "aff425f7-cdfc-4099-a9ef-505e607e7fcf",
      "cell_type": "code",
      "source": "arr=np.array([[1,2,3,4],[4,3,2,1]])\nprint(arr[1,1:4])",
      "metadata": {
        "trusted": true
      },
      "outputs": [
        {
          "name": "stdout",
          "output_type": "stream",
          "text": "[3 2 1]\n"
        }
      ],
      "execution_count": 9
    },
    {
      "id": "d8bda113-d6dd-42e7-83c3-a0d85bd0b204",
      "cell_type": "code",
      "source": "arr=np.array([[10,20,30],[40,50,60]])\nprint(arr[0,0:3])",
      "metadata": {
        "trusted": true
      },
      "outputs": [
        {
          "name": "stdout",
          "output_type": "stream",
          "text": "[10 20 30]\n"
        }
      ],
      "execution_count": 10
    },
    {
      "id": "b373814b-bdda-43e9-9d29-4ab01e804cd7",
      "cell_type": "raw",
      "source": "Data type in Numpy\n\nnumpy has some extra data type and refer to data types with one character ,like intger,\n\ni -integer\nb -boolean\nu -unsigned integer\nf -float\nc -complex float\nm -timedate\nM -datetime\no -object\ns -string\nu -unicode string\nv -fixed chunk of memory for other type(void)",
      "metadata": {}
    },
    {
      "id": "9469de24-c41e-419e-9a7d-c00517348025",
      "cell_type": "markdown",
      "source": "Checking the data type of array",
      "metadata": {}
    },
    {
      "id": "d95306ac-3114-4c8c-bde6-f2835eabfb82",
      "cell_type": "code",
      "source": "arr=np.array([1,2,3,4,5])\nprint(arr.dtype)",
      "metadata": {
        "trusted": true
      },
      "outputs": [
        {
          "name": "stdout",
          "output_type": "stream",
          "text": "int32\n"
        }
      ],
      "execution_count": 12
    },
    {
      "id": "8b2062de-09ef-4048-91ec-80e4ef59ee77",
      "cell_type": "code",
      "source": "arr=np.array(['animal','cat','dog'])\nprint(arr.dtype)",
      "metadata": {
        "trusted": true
      },
      "outputs": [
        {
          "name": "stdout",
          "output_type": "stream",
          "text": "<U6\n"
        }
      ],
      "execution_count": 13
    },
    {
      "id": "e8df37eb-6bc8-4500-818c-fba8cadfd577",
      "cell_type": "markdown",
      "source": "Creating array with a defined data types",
      "metadata": {}
    },
    {
      "id": "b67f6d23-72f4-4a37-835c-ab2681c9f743",
      "cell_type": "code",
      "source": "arr=np.array([2,3,4,5,6],dtype= 'S')\nprint(arr)\nprint(arr.dtype)",
      "metadata": {
        "trusted": true
      },
      "outputs": [
        {
          "name": "stdout",
          "output_type": "stream",
          "text": "[b'2' b'3' b'4' b'5' b'6']\n|S1\n"
        }
      ],
      "execution_count": 17
    },
    {
      "id": "a2c2b912-3386-455b-84a9-8ef4f8f1f687",
      "cell_type": "markdown",
      "source": "Create an array with data type 4bytes integer",
      "metadata": {}
    },
    {
      "id": "1cce7af9-7024-4a32-9290-edb3d01fc58b",
      "cell_type": "code",
      "source": "a=np.array([1,2,3,4],dtype='i4')\nprint(a)\nprint(a.dtype)",
      "metadata": {
        "trusted": true
      },
      "outputs": [
        {
          "name": "stdout",
          "output_type": "stream",
          "text": "[1 2 3 4]\nint32\n"
        }
      ],
      "execution_count": 20
    },
    {
      "id": "5b7042c1-9eaa-4396-a736-d431413e6bdf",
      "cell_type": "markdown",
      "source": "Numpy array Shape",
      "metadata": {}
    },
    {
      "id": "13b0dd4d-28a5-4235-ba90-cb6fb153e2d7",
      "cell_type": "markdown",
      "source": "the shape of an array the number of element in each dimension",
      "metadata": {}
    },
    {
      "id": "824a0e86-8eaa-40ea-9303-e312c62afecc",
      "cell_type": "markdown",
      "source": "print the shape of 2d array",
      "metadata": {}
    },
    {
      "id": "ef9bfc15-4482-4972-8f03-7921ce499b0e",
      "cell_type": "code",
      "source": "a=np.array([[1,2,3,4],[5,6,7,8]])\nprint(a.shape)\n",
      "metadata": {
        "trusted": true
      },
      "outputs": [
        {
          "name": "stdout",
          "output_type": "stream",
          "text": "(2, 4)\n"
        }
      ],
      "execution_count": 21
    },
    {
      "id": "14bb67bb-31f1-4128-b009-ad9f34cde421",
      "cell_type": "markdown",
      "source": "3D array shape",
      "metadata": {}
    },
    {
      "id": "39e80670-c81f-4464-81fe-652011781d67",
      "cell_type": "code",
      "source": "a=np.array([[[1,2,3,4],[5,6,7,8],[9,8,7,6]]])\nprint(a)\nprint(a.shape)",
      "metadata": {
        "trusted": true
      },
      "outputs": [
        {
          "name": "stdout",
          "output_type": "stream",
          "text": "[[[1 2 3 4]\n  [5 6 7 8]\n  [9 8 7 6]]]\n(1, 3, 4)\n"
        }
      ],
      "execution_count": 23
    },
    {
      "id": "b5f2f6c9-e0e5-415a-a927-9c999f78ccb5",
      "cell_type": "markdown",
      "source": "Joining Numpy array",
      "metadata": {}
    },
    {
      "id": "b862e445-caa2-493c-9e17-e9a24ce663f6",
      "cell_type": "code",
      "source": "arr1=np.array([1,2,3,4])\narr2=np.array([5,8,6,7])\narr=np.concatenate((arr1,arr2))\nprint(arr)\n",
      "metadata": {
        "trusted": true
      },
      "outputs": [
        {
          "name": "stdout",
          "output_type": "stream",
          "text": "[1 2 3 4 5 8 6 7]\n"
        }
      ],
      "execution_count": 30
    },
    {
      "id": "165e203e-00b3-41d9-8ee0-a82c6a02c18d",
      "cell_type": "markdown",
      "source": "join 2D array",
      "metadata": {}
    },
    {
      "id": "74d333b5-2d8d-4022-ac84-5a0176ebfa72",
      "cell_type": "code",
      "source": "arr1=np.array([[1,2,3],[4,5,6]])\narr2=np.array([[9,8,7],[6,5,4]])\narr=np.concatenate((arr1,arr2),axis=1) #rowise\nprint(arr)",
      "metadata": {
        "trusted": true
      },
      "outputs": [
        {
          "name": "stdout",
          "output_type": "stream",
          "text": "[[1 2 3 9 8 7]\n [4 5 6 6 5 4]]\n"
        }
      ],
      "execution_count": 34
    },
    {
      "id": "21d8e680-f511-43fe-8244-2334ae40ba15",
      "cell_type": "code",
      "source": "arr1=np.array([[1,2,3],[4,5,6]])\narr2=np.array([[9,8,7],[6,5,4]])\narr=np.concatenate((arr1,arr2),axis=0) #columnwise\nprint(arr)",
      "metadata": {
        "trusted": true
      },
      "outputs": [
        {
          "name": "stdout",
          "output_type": "stream",
          "text": "[[1 2 3]\n [4 5 6]\n [9 8 7]\n [6 5 4]]\n"
        }
      ],
      "execution_count": 35
    },
    {
      "id": "e432691c-6a41-400b-8a59-2683b4298d7d",
      "cell_type": "markdown",
      "source": "Splitting Numpy Array",
      "metadata": {}
    },
    {
      "id": "b949f093-d0fe-4a75-b236-450e666074ec",
      "cell_type": "markdown",
      "source": "Splitting the array in 3 part",
      "metadata": {}
    },
    {
      "id": "813083a7-3b7f-49b6-a0c2-a60cc8522aad",
      "cell_type": "code",
      "source": "arr=np.array([1,2,3,4,5,6])\nnewarr=np.array_split(arr,3)\nprint(newarr)",
      "metadata": {
        "trusted": true
      },
      "outputs": [
        {
          "name": "stdout",
          "output_type": "stream",
          "text": "[array([1, 2]), array([3, 4]), array([5, 6])]\n"
        }
      ],
      "execution_count": 38
    },
    {
      "id": "ce2f0ee5-271e-4f17-9da9-9cc568d9359d",
      "cell_type": "markdown",
      "source": "Ravel &flatten",
      "metadata": {}
    },
    {
      "id": "2992b1b9-69d9-4e0d-91d7-2fde12111294",
      "cell_type": "markdown",
      "source": "convert mutidimension array into 1 d array",
      "metadata": {}
    },
    {
      "id": "f245082f-d683-4a14-9f4b-a1721f83a419",
      "cell_type": "code",
      "source": "m=np.array([[[1,2,3],[4,5,6],[7,8,9]]])\nprint(m)\nprint('dimnesion of array:' ,m.ndim)\nn=m.ravel()\nprint(n)",
      "metadata": {
        "trusted": true
      },
      "outputs": [
        {
          "name": "stdout",
          "output_type": "stream",
          "text": "[[[1 2 3]\n  [4 5 6]\n  [7 8 9]]]\ndimnesion of array: 3\n[1 2 3 4 5 6 7 8 9]\n"
        }
      ],
      "execution_count": 40
    },
    {
      "id": "494bec77-3cf7-4d1e-9c58-842a5c6042c0",
      "cell_type": "code",
      "source": "m=np.array([[[1,2,3],[4,5,6],[7,8,9]]])\nprint(m)\nprint('dimnesion of array:' ,m.ndim)\nn=m.flatten()\nprint(n)\nprint(\"now new dimension :\",n.ndim)",
      "metadata": {
        "trusted": true
      },
      "outputs": [
        {
          "name": "stdout",
          "output_type": "stream",
          "text": "[[[1 2 3]\n  [4 5 6]\n  [7 8 9]]]\ndimnesion of array: 3\n[1 2 3 4 5 6 7 8 9]\nnow new dimension : 1\n"
        }
      ],
      "execution_count": 46
    },
    {
      "id": "aebcc155-806b-4192-8220-181d78203803",
      "cell_type": "code",
      "source": "c=np.array([[[[1,2],[3,4],[5,6],[7,8]]]])\nprint(c)\nprint(\"dimension of array: \",c.ndim)\nd=c.flatten()\nprint(d)\nprint(\"now new dimension :\",d.ndim)",
      "metadata": {
        "trusted": true
      },
      "outputs": [
        {
          "name": "stdout",
          "output_type": "stream",
          "text": "[[[[1 2]\n   [3 4]\n   [5 6]\n   [7 8]]]]\ndimension of array:  4\n[1 2 3 4 5 6 7 8]\nnow new dimension : 1\n"
        }
      ],
      "execution_count": 47
    },
    {
      "id": "ac7937b0-a39b-4fe2-aca6-38b2447b160a",
      "cell_type": "markdown",
      "source": "#/unique Function",
      "metadata": {}
    },
    {
      "id": "8e8810e2-0c7d-4b54-9c9b-2f4d91c967a9",
      "cell_type": "code",
      "source": "k=np.array([1,3,3,3,7,8,3,1,5,8,94,32,21,32,14,5,19])\nprint(k)\nx=np.unique(k)\nprint(x)",
      "metadata": {
        "trusted": true
      },
      "outputs": [
        {
          "name": "stdout",
          "output_type": "stream",
          "text": "[ 1  3  3  3  7  8  3  1  5  8 94 32 21 32 14  5 19]\n[ 1  3  5  7  8 14 19 21 32 94]\n"
        }
      ],
      "execution_count": 51
    },
    {
      "id": "15c4fac3-664d-4284-9c6f-ad74a0cbb849",
      "cell_type": "code",
      "source": "k=np.array([1,3,3,3,7,8,3,1,5,8,94,32,21,32,14,5,19])\nprint(k)\nx=np.unique(k,return_index=True)\nprint(x)",
      "metadata": {
        "trusted": true
      },
      "outputs": [
        {
          "name": "stdout",
          "output_type": "stream",
          "text": "[ 1  3  3  3  7  8  3  1  5  8 94 32 21 32 14  5 19]\n(array([ 1,  3,  5,  7,  8, 14, 19, 21, 32, 94]), array([ 0,  1,  8,  4,  5, 14, 16, 12, 11, 10]))\n"
        }
      ],
      "execution_count": 52
    },
    {
      "id": "f275d9f4-1065-4c8b-9954-c18e844206a8",
      "cell_type": "code",
      "source": "k=np.array([1,3,3,3,7,8,3,1,5,8,94,32,21,32,14,5,19])\nprint(k)\nx=np.unique(k,return_index=True, return_counts=True)\nprint(x)",
      "metadata": {
        "trusted": true
      },
      "outputs": [
        {
          "name": "stdout",
          "output_type": "stream",
          "text": "[ 1  3  3  3  7  8  3  1  5  8 94 32 21 32 14  5 19]\n(array([ 1,  3,  5,  7,  8, 14, 19, 21, 32, 94]), array([ 0,  1,  8,  4,  5, 14, 16, 12, 11, 10]), array([2, 4, 2, 1, 2, 1, 1, 1, 2, 1]))\n"
        }
      ],
      "execution_count": 54
    },
    {
      "id": "70ffbbf7-a254-4606-ab1e-2c2dc00e2800",
      "cell_type": "markdown",
      "source": "DELETE",
      "metadata": {}
    },
    {
      "id": "2662f2cf-3a5c-403f-b983-ed7b03658cfc",
      "cell_type": "code",
      "source": "a=np.array([1,2,3,5])\nb=np.delete(a,[3])\nprint(a)\nprint(b)",
      "metadata": {
        "trusted": true
      },
      "outputs": [
        {
          "name": "stdout",
          "output_type": "stream",
          "text": "[1 2 3 5]\n[1 2 3]\n"
        }
      ],
      "execution_count": 55
    },
    {
      "id": "128c8551-abd1-4cfd-bdf9-9b9be2fbeefd",
      "cell_type": "code",
      "source": "",
      "metadata": {
        "trusted": true
      },
      "outputs": [],
      "execution_count": null
    }
  ]
}