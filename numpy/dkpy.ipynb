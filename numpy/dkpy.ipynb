{
  "metadata": {
    "kernelspec": {
      "name": "xpython",
      "display_name": "Python 3.13 (XPython)",
      "language": "python"
    },
    "language_info": {
      "file_extension": ".py",
      "mimetype": "text/x-python",
      "name": "python",
      "version": "3.13.1"
    }
  },
  "nbformat_minor": 5,
  "nbformat": 4,
  "cells": [
    {
      "id": "e2ccabed-9d4d-4770-b1a1-f24ecdeed445",
      "cell_type": "code",
      "source": "import numpy as np\n",
      "metadata": {
        "trusted": true
      },
      "outputs": [],
      "execution_count": 1
    },
    {
      "id": "0211d2bc-953b-495b-87c1-275cdcb32999",
      "cell_type": "code",
      "source": "arr =np.array([1,2,3,4,5])\nprint(arr)\nprint(type(arr))",
      "metadata": {
        "trusted": true
      },
      "outputs": [
        {
          "name": "stdout",
          "output_type": "stream",
          "text": "[1 2 3 4 5]\n<class 'numpy.ndarray'>\n"
        }
      ],
      "execution_count": 3
    },
    {
      "id": "d4c365b0-c2e7-4c91-8b67-66b43735a1a6",
      "cell_type": "code",
      "source": "arr=np.array((1,2,3,4,5))\nprint (arr)",
      "metadata": {
        "trusted": true
      },
      "outputs": [
        {
          "name": "stdout",
          "output_type": "stream",
          "text": "[1 2 3 4 5]\n"
        }
      ],
      "execution_count": 4
    },
    {
      "id": "04c15e23-74b4-49cc-a74c-f1ca1ec06270",
      "cell_type": "markdown",
      "source": " Dimension in array",
      "metadata": {}
    },
    {
      "id": "d169371e-0255-4d95-b5fa-f4f10a787412",
      "cell_type": "code",
      "source": "arr=np.array(20)\nprint(arr)\nprint(type(arr))\nprint(arr.ndim)",
      "metadata": {
        "trusted": true
      },
      "outputs": [
        {
          "name": "stdout",
          "output_type": "stream",
          "text": "20\n<class 'numpy.ndarray'>\n0\n"
        }
      ],
      "execution_count": 5
    },
    {
      "id": "5d1fa1ea-8634-4a2d-b57d-751069d3da84",
      "cell_type": "markdown",
      "source": "#1D array",
      "metadata": {}
    },
    {
      "id": "a600a509-9ab1-41d8-ba48-9aa116f5ea67",
      "cell_type": "code",
      "source": "arr=np.array([1,2,3,4,5,6])\nprint(arr)\nprint(arr.ndim)",
      "metadata": {
        "trusted": true
      },
      "outputs": [
        {
          "name": "stdout",
          "output_type": "stream",
          "text": "[1 2 3 4 5 6]\n1\n"
        }
      ],
      "execution_count": 6
    },
    {
      "id": "45aa01ed-5262-4481-8ef0-169b92c4f883",
      "cell_type": "markdown",
      "source": "#2D array",
      "metadata": {}
    },
    {
      "id": "860ddeb9-3be7-4876-92cf-b9a8341730a7",
      "cell_type": "code",
      "source": "arr=np.array([[1,2,3],[4,5,6]])\nprint(arr)\nprint(arr.ndim)",
      "metadata": {
        "trusted": true
      },
      "outputs": [
        {
          "name": "stdout",
          "output_type": "stream",
          "text": "[[1 2 3]\n [4 5 6]]\n2\n"
        }
      ],
      "execution_count": 9
    },
    {
      "id": "176d60df-1924-471f-a5fb-108c60c9491e",
      "cell_type": "code",
      "source": "arr=np.array([[1.1,2,3.4],[4.4,5,6.6]])\nprint(arr)\nprint(arr.ndim)",
      "metadata": {
        "trusted": true
      },
      "outputs": [
        {
          "name": "stdout",
          "output_type": "stream",
          "text": "[[1.1 2.  3.4]\n [4.4 5.  6.6]]\n2\n"
        }
      ],
      "execution_count": 10
    },
    {
      "id": "b63eeeb1-12c1-4f9c-ae5a-f8a7c6a22877",
      "cell_type": "markdown",
      "source": "#3D array",
      "metadata": {}
    },
    {
      "id": "0d57d757-ba55-4a4a-930c-43dba1599054",
      "cell_type": "code",
      "source": "arr=np.array([[[1,2,3],[4,5,6]],[[7,8,9],[4,5,6]]])\n\nprint(arr)\nprint(arr.ndim)\n",
      "metadata": {
        "trusted": true
      },
      "outputs": [
        {
          "name": "stdout",
          "output_type": "stream",
          "text": "[[[1 2 3]\n  [4 5 6]]\n\n [[7 8 9]\n  [4 5 6]]]\n3\n"
        }
      ],
      "execution_count": 13
    },
    {
      "id": "3d6e31a1-27eb-44e2-8387-9e266bf4d688",
      "cell_type": "markdown",
      "source": "#All dimension",
      "metadata": {}
    },
    {
      "id": "52c10d5b-d46f-4538-a318-782cfc2204a6",
      "cell_type": "code",
      "source": "a=np.array(23)\nb=np.array([1,2,3,4])\nc=np.array([[1,2,3],[2,3,4]])\nd=np.array([[[1,1,1],[2,2,2]],[[3,3,3],[4,4,4]]])\nprint(a.ndim)\nprint(b.ndim)\nprint(c.ndim)\nprint(d.ndim)",
      "metadata": {
        "trusted": true
      },
      "outputs": [
        {
          "name": "stdout",
          "output_type": "stream",
          "text": "0\n1\n2\n3\n"
        }
      ],
      "execution_count": 19
    },
    {
      "id": "2cf3e918-17e5-4a02-a0e3-027805ae76f7",
      "cell_type": "markdown",
      "source": "Create a 5 dimension array and verify that it has 5 dimension",
      "metadata": {}
    },
    {
      "id": "817acc54-b6a2-41b2-8d6d-c75c1e75700a",
      "cell_type": "code",
      "source": "arr=np.array([1,2,3,4,5],ndmin=5)\nprint(arr)\nprint(\"Number of dimension:\",arr.ndim)",
      "metadata": {
        "trusted": true
      },
      "outputs": [
        {
          "name": "stdout",
          "output_type": "stream",
          "text": "[[[[[[1 2 3 4 5]]]]]]\nNumber of dimension: 6\n"
        }
      ],
      "execution_count": 25
    },
    {
      "id": "2345cc47-39b2-4580-b66c-b8c1650ba00d",
      "cell_type": "code",
      "source": "arr=np.array([1,2,3,4,5],ndmin=1)\nprint(arr)\nprint(arr.ndim)",
      "metadata": {
        "trusted": true
      },
      "outputs": [
        {
          "name": "stdout",
          "output_type": "stream",
          "text": "[1 2 3 4 5]\n1\n"
        }
      ],
      "execution_count": 28
    },
    {
      "id": "901555c3-e9da-4929-8744-e809a135c4d3",
      "cell_type": "markdown",
      "source": "Numpy array indexing:\n\n   \nGet the first elemetn of array\n",
      "metadata": {}
    },
    {
      "id": "c8253dc2-eaad-4668-a62a-734a55676621",
      "cell_type": "code",
      "source": "arr=np.array([1,2,3,4,5])\nprint(arr[0])\n",
      "metadata": {
        "trusted": true
      },
      "outputs": [
        {
          "name": "stdout",
          "output_type": "stream",
          "text": "1\n"
        }
      ],
      "execution_count": 30
    },
    {
      "id": "220c43b4-a23e-43ea-88dd-e5486c194e1a",
      "cell_type": "markdown",
      "source": "Get third and eight element of an array and add them",
      "metadata": {}
    },
    {
      "id": "4d09fd4a-4bc7-4816-9bc8-d552c42d91f3",
      "cell_type": "code",
      "source": "arr=np.array([1,2,3,4,5,6,7,8,9])\nprint('third element:',arr[2])\nprint('8th element is:',arr[7])\nprint('sum of element is:',arr[2]+arr[7])",
      "metadata": {
        "trusted": true
      },
      "outputs": [
        {
          "name": "stdout",
          "output_type": "stream",
          "text": "third element: 3\n8th element is: 8\nsum of element is: 11\n"
        }
      ],
      "execution_count": 34
    },
    {
      "id": "82e6fa7e-8b8d-4396-87cc-da0b28360083",
      "cell_type": "markdown",
      "source": "Get indexing of 2D array",
      "metadata": {}
    },
    {
      "id": "58c40f46-debe-4560-8fee-962d5ff1c28b",
      "cell_type": "code",
      "source": "arr=np.array([[1,2,3,4],[5,6,7,8]])\nprint(\"2nd element of 1st row :\",arr[0,1])\nprint(arr)",
      "metadata": {
        "trusted": true
      },
      "outputs": [
        {
          "name": "stdout",
          "output_type": "stream",
          "text": "2nd element of 1st row : 2\n[[1 2 3 4]\n [5 6 7 8]]\n"
        }
      ],
      "execution_count": 38
    },
    {
      "id": "780f06d0-68fd-4f51-912b-46346ad18adc",
      "cell_type": "code",
      "source": "import numpy as np",
      "metadata": {
        "trusted": true
      },
      "outputs": [],
      "execution_count": 2
    },
    {
      "id": "8a5fb611-fed2-494b-850b-dd3258179d45",
      "cell_type": "code",
      "source": "arr=np.array([[1,2,3,4],[5,6,7,8]])\nprint('3rd element of 1st row :',arr[0,2])",
      "metadata": {
        "trusted": true
      },
      "outputs": [
        {
          "name": "stdout",
          "output_type": "stream",
          "text": "3rd element of 1st row : 3\n"
        }
      ],
      "execution_count": 3
    },
    {
      "id": "79bc8177-0b27-415b-bb81-f1e23ff419cd",
      "cell_type": "markdown",
      "source": "#add first element and last element of  2d array",
      "metadata": {}
    },
    {
      "id": "a78c0c64-fce4-45a5-a184-f40e075bea0b",
      "cell_type": "code",
      "source": "arr=np.array([[1,2,3,4],[5,6,7,8]])\nprint('1st element of 1st row :',arr[0,0])\nprint('last element of 2nd row : ',arr[-1,-1])\nprint('sum of first and last element is :',arr[0,0]+arr[-1,-1])",
      "metadata": {
        "trusted": true
      },
      "outputs": [
        {
          "name": "stdout",
          "output_type": "stream",
          "text": "1st element of 1st row : 1\nlast element of 2nd row :  8\nsum of first and last element is : 9\n"
        }
      ],
      "execution_count": 8
    },
    {
      "id": "f7543690-949c-4234-9d3e-cf0b29a3344a",
      "cell_type": "markdown",
      "source": "#Access 3D array",
      "metadata": {}
    },
    {
      "id": "e6cd4dd3-617d-4d69-b6b7-af9d75809765",
      "cell_type": "code",
      "source": "arr=np.array([[[1,23,4],[1,2,4]],[[5,6,78],[9,8,7]]])\nprint(arr)\nprint(arr.ndim)\nprint(arr[0,0,1])",
      "metadata": {
        "trusted": true
      },
      "outputs": [
        {
          "name": "stdout",
          "output_type": "stream",
          "text": "[[[ 1 23  4]\n  [ 1  2  4]]\n\n [[ 5  6 78]\n  [ 9  8  7]]]\n3\n23\n"
        }
      ],
      "execution_count": 12
    },
    {
      "id": "897ce460-b630-41c1-a6e4-0a143a463c44",
      "cell_type": "code",
      "source": "",
      "metadata": {
        "trusted": true
      },
      "outputs": [],
      "execution_count": null
    }
  ]
}