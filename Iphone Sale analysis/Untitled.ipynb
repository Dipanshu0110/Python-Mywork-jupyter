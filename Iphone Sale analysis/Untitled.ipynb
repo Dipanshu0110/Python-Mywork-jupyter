{
 "cells": [
  {
   "cell_type": "code",
   "execution_count": null,
   "id": "6691d924-637f-4869-97a7-10f0a3e1f235",
   "metadata": {},
   "outputs": [],
   "source": []
  }
 ],
 "metadata": {
  "kernelspec": {
   "display_name": "",
   "name": ""
  },
  "language_info": {
   "name": ""
  }
 },
 "nbformat": 4,
 "nbformat_minor": 5
}
