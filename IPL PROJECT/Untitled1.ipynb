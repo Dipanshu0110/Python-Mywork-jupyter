{
 "cells": [
  {
   "cell_type": "code",
   "execution_count": null,
   "id": "7520242a-9106-4011-8173-d1217509d6e3",
   "metadata": {},
   "outputs": [],
   "source": []
  }
 ],
 "metadata": {
  "kernelspec": {
   "display_name": "",
   "name": ""
  },
  "language_info": {
   "name": ""
  }
 },
 "nbformat": 4,
 "nbformat_minor": 5
}
