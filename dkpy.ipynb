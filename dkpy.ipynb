{
 "cells": [
  {
   "cell_type": "code",
   "execution_count": 1,
   "id": "e2ccabed-9d4d-4770-b1a1-f24ecdeed445",
   "metadata": {},
   "outputs": [],
   "source": [
    "import numpy as np\n"
   ]
  },
  {
   "cell_type": "code",
   "execution_count": 3,
   "id": "0211d2bc-953b-495b-87c1-275cdcb32999",
   "metadata": {},
   "outputs": [
    {
     "name": "stdout",
     "output_type": "stream",
     "text": [
      "[1 2 3 4 5]\n",
      "<class 'numpy.ndarray'>\n"
     ]
    }
   ],
   "source": [
    "arr =np.array([1,2,3,4,5])\n",
    "print(arr)\n",
    "print(type(arr))"
   ]
  },
  {
   "cell_type": "code",
   "execution_count": 4,
   "id": "d4c365b0-c2e7-4c91-8b67-66b43735a1a6",
   "metadata": {},
   "outputs": [
    {
     "name": "stdout",
     "output_type": "stream",
     "text": [
      "[1 2 3 4 5]\n"
     ]
    }
   ],
   "source": [
    "arr=np.array((1,2,3,4,5))\n",
    "print (arr)"
   ]
  },
  {
   "cell_type": "markdown",
   "id": "04c15e23-74b4-49cc-a74c-f1ca1ec06270",
   "metadata": {},
   "source": [
    " Dimension in array"
   ]
  },
  {
   "cell_type": "code",
   "execution_count": 5,
   "id": "d169371e-0255-4d95-b5fa-f4f10a787412",
   "metadata": {},
   "outputs": [
    {
     "name": "stdout",
     "output_type": "stream",
     "text": [
      "20\n",
      "<class 'numpy.ndarray'>\n",
      "0\n"
     ]
    }
   ],
   "source": [
    "arr=np.array(20)\n",
    "print(arr)\n",
    "print(type(arr))\n",
    "print(arr.ndim)"
   ]
  },
  {
   "cell_type": "markdown",
   "id": "5d1fa1ea-8634-4a2d-b57d-751069d3da84",
   "metadata": {},
   "source": [
    "#1D array"
   ]
  },
  {
   "cell_type": "code",
   "execution_count": 6,
   "id": "a600a509-9ab1-41d8-ba48-9aa116f5ea67",
   "metadata": {},
   "outputs": [
    {
     "name": "stdout",
     "output_type": "stream",
     "text": [
      "[1 2 3 4 5 6]\n",
      "1\n"
     ]
    }
   ],
   "source": [
    "arr=np.array([1,2,3,4,5,6])\n",
    "print(arr)\n",
    "print(arr.ndim)"
   ]
  },
  {
   "cell_type": "markdown",
   "id": "45aa01ed-5262-4481-8ef0-169b92c4f883",
   "metadata": {},
   "source": [
    "#2D array"
   ]
  },
  {
   "cell_type": "code",
   "execution_count": 9,
   "id": "860ddeb9-3be7-4876-92cf-b9a8341730a7",
   "metadata": {},
   "outputs": [
    {
     "name": "stdout",
     "output_type": "stream",
     "text": [
      "[[1 2 3]\n",
      " [4 5 6]]\n",
      "2\n"
     ]
    }
   ],
   "source": [
    "arr=np.array([[1,2,3],[4,5,6]])\n",
    "print(arr)\n",
    "print(arr.ndim)"
   ]
  },
  {
   "cell_type": "code",
   "execution_count": 10,
   "id": "176d60df-1924-471f-a5fb-108c60c9491e",
   "metadata": {},
   "outputs": [
    {
     "name": "stdout",
     "output_type": "stream",
     "text": [
      "[[1.1 2.  3.4]\n",
      " [4.4 5.  6.6]]\n",
      "2\n"
     ]
    }
   ],
   "source": [
    "arr=np.array([[1.1,2,3.4],[4.4,5,6.6]])\n",
    "print(arr)\n",
    "print(arr.ndim)"
   ]
  },
  {
   "cell_type": "markdown",
   "id": "b63eeeb1-12c1-4f9c-ae5a-f8a7c6a22877",
   "metadata": {},
   "source": [
    "#3D array"
   ]
  },
  {
   "cell_type": "code",
   "execution_count": 13,
   "id": "0d57d757-ba55-4a4a-930c-43dba1599054",
   "metadata": {},
   "outputs": [
    {
     "name": "stdout",
     "output_type": "stream",
     "text": [
      "[[[1 2 3]\n",
      "  [4 5 6]]\n",
      "\n",
      " [[7 8 9]\n",
      "  [4 5 6]]]\n",
      "3\n"
     ]
    }
   ],
   "source": [
    "arr=np.array([[[1,2,3],[4,5,6]],[[7,8,9],[4,5,6]]])\n",
    "\n",
    "print(arr)\n",
    "print(arr.ndim)\n"
   ]
  },
  {
   "cell_type": "markdown",
   "id": "3d6e31a1-27eb-44e2-8387-9e266bf4d688",
   "metadata": {},
   "source": [
    "#All dimension"
   ]
  },
  {
   "cell_type": "code",
   "execution_count": 19,
   "id": "52c10d5b-d46f-4538-a318-782cfc2204a6",
   "metadata": {},
   "outputs": [
    {
     "name": "stdout",
     "output_type": "stream",
     "text": [
      "0\n",
      "1\n",
      "2\n",
      "3\n"
     ]
    }
   ],
   "source": [
    "a=np.array(23)\n",
    "b=np.array([1,2,3,4])\n",
    "c=np.array([[1,2,3],[2,3,4]])\n",
    "d=np.array([[[1,1,1],[2,2,2]],[[3,3,3],[4,4,4]]])\n",
    "print(a.ndim)\n",
    "print(b.ndim)\n",
    "print(c.ndim)\n",
    "print(d.ndim)"
   ]
  },
  {
   "cell_type": "markdown",
   "id": "2cf3e918-17e5-4a02-a0e3-027805ae76f7",
   "metadata": {},
   "source": [
    "Create a 5 dimension array and verify that it has 5 dimension"
   ]
  },
  {
   "cell_type": "code",
   "execution_count": 25,
   "id": "817acc54-b6a2-41b2-8d6d-c75c1e75700a",
   "metadata": {},
   "outputs": [
    {
     "name": "stdout",
     "output_type": "stream",
     "text": [
      "[[[[[[1 2 3 4 5]]]]]]\n",
      "Number of dimension: 6\n"
     ]
    }
   ],
   "source": [
    "arr=np.array([1,2,3,4,5],ndmin=5)\n",
    "print(arr)\n",
    "print(\"Number of dimension:\",arr.ndim)"
   ]
  },
  {
   "cell_type": "code",
   "execution_count": null,
   "id": "2345cc47-39b2-4580-b66c-b8c1650ba00d",
   "metadata": {},
   "outputs": [
    {
     "name": "stdout",
     "output_type": "stream",
     "text": [
      "[1 2 3 4 5]\n",
      "1\n"
     ]
    }
   ],
   "source": [
    "arr=np.array([1,2,3,4,5],ndmin=1)\n",
    "print(arr)\n",
    "print(arr.ndim)"
   ]
  },
  {
   "cell_type": "markdown",
   "id": "901555c3-e9da-4929-8744-e809a135c4d3",
   "metadata": {},
   "source": [
    "Numpy array indexing:\n",
    "\n",
    "   \n",
    "Get the first elemetn of array\n"
   ]
  },
  {
   "cell_type": "code",
   "execution_count": 30,
   "id": "c8253dc2-eaad-4668-a62a-734a55676621",
   "metadata": {},
   "outputs": [
    {
     "name": "stdout",
     "output_type": "stream",
     "text": [
      "1\n"
     ]
    }
   ],
   "source": [
    "arr=np.array([1,2,3,4,5])\n",
    "print(arr[0])\n"
   ]
  },
  {
   "cell_type": "markdown",
   "id": "220c43b4-a23e-43ea-88dd-e5486c194e1a",
   "metadata": {},
   "source": [
    "Get third and eight element of an array and add them"
   ]
  },
  {
   "cell_type": "code",
   "execution_count": 34,
   "id": "4d09fd4a-4bc7-4816-9bc8-d552c42d91f3",
   "metadata": {},
   "outputs": [
    {
     "name": "stdout",
     "output_type": "stream",
     "text": [
      "third element: 3\n",
      "8th element is: 8\n",
      "sum of element is: 11\n"
     ]
    }
   ],
   "source": [
    "arr=np.array([1,2,3,4,5,6,7,8,9])\n",
    "print('third element:',arr[2])\n",
    "print('8th element is:',arr[7])\n",
    "print('sum of element is:',arr[2]+arr[7])"
   ]
  },
  {
   "cell_type": "markdown",
   "id": "82e6fa7e-8b8d-4396-87cc-da0b28360083",
   "metadata": {},
   "source": [
    "Get indexing of 2D array"
   ]
  },
  {
   "cell_type": "code",
   "execution_count": 38,
   "id": "58c40f46-debe-4560-8fee-962d5ff1c28b",
   "metadata": {},
   "outputs": [
    {
     "name": "stdout",
     "output_type": "stream",
     "text": [
      "2nd element of 1st row : 2\n",
      "[[1 2 3 4]\n",
      " [5 6 7 8]]\n"
     ]
    }
   ],
   "source": [
    "arr=np.array([[1,2,3,4],[5,6,7,8]])\n",
    "print(\"2nd element of 1st row :\",arr[0,1])\n",
    "print(arr)"
   ]
  },
  {
   "cell_type": "code",
   "execution_count": 2,
   "id": "780f06d0-68fd-4f51-912b-46346ad18adc",
   "metadata": {},
   "outputs": [],
   "source": [
    "import numpy as np"
   ]
  },
  {
   "cell_type": "code",
   "execution_count": 3,
   "id": "8a5fb611-fed2-494b-850b-dd3258179d45",
   "metadata": {},
   "outputs": [
    {
     "name": "stdout",
     "output_type": "stream",
     "text": [
      "3rd element of 1st row : 3\n"
     ]
    }
   ],
   "source": [
    "arr=np.array([[1,2,3,4],[5,6,7,8]])\n",
    "print('3rd element of 1st row :',arr[0,2])"
   ]
  },
  {
   "cell_type": "markdown",
   "id": "79bc8177-0b27-415b-bb81-f1e23ff419cd",
   "metadata": {},
   "source": [
    "#add first element and last element of  2d array"
   ]
  },
  {
   "cell_type": "code",
   "execution_count": 8,
   "id": "a78c0c64-fce4-45a5-a184-f40e075bea0b",
   "metadata": {},
   "outputs": [
    {
     "name": "stdout",
     "output_type": "stream",
     "text": [
      "1st element of 1st row : 1\n",
      "last element of 2nd row :  8\n",
      "sum of first and last element is : 9\n"
     ]
    }
   ],
   "source": [
    "arr=np.array([[1,2,3,4],[5,6,7,8]])\n",
    "print('1st element of 1st row :',arr[0,0])\n",
    "print('last element of 2nd row : ',arr[-1,-1])\n",
    "print('sum of first and last element is :',arr[0,0]+arr[-1,-1])"
   ]
  },
  {
   "cell_type": "markdown",
   "id": "f7543690-949c-4234-9d3e-cf0b29a3344a",
   "metadata": {},
   "source": [
    "#Access 3D array"
   ]
  },
  {
   "cell_type": "code",
   "execution_count": 12,
   "id": "e6cd4dd3-617d-4d69-b6b7-af9d75809765",
   "metadata": {},
   "outputs": [
    {
     "name": "stdout",
     "output_type": "stream",
     "text": [
      "[[[ 1 23  4]\n",
      "  [ 1  2  4]]\n",
      "\n",
      " [[ 5  6 78]\n",
      "  [ 9  8  7]]]\n",
      "3\n",
      "23\n"
     ]
    }
   ],
   "source": [
    "arr=np.array([[[1,23,4],[1,2,4]],[[5,6,78],[9,8,7]]])\n",
    "print(arr)\n",
    "print(arr.ndim)\n",
    "print(arr[0,0,1])"
   ]
  },
  {
   "cell_type": "code",
   "execution_count": null,
   "id": "897ce460-b630-41c1-a6e4-0a143a463c44",
   "metadata": {},
   "outputs": [],
   "source": []
  }
 ],
 "metadata": {
  "kernelspec": {
   "display_name": "Python (myenv)",
   "language": "python",
   "name": "myenv"
  },
  "language_info": {
   "codemirror_mode": {
    "name": "ipython",
    "version": 3
   },
   "file_extension": ".py",
   "mimetype": "text/x-python",
   "name": "python",
   "nbconvert_exporter": "python",
   "pygments_lexer": "ipython3",
   "version": "3.11.9"
  }
 },
 "nbformat": 4,
 "nbformat_minor": 5
}
